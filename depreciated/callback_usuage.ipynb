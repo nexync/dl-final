{
 "cells": [
  {
   "cell_type": "code",
   "execution_count": null,
   "metadata": {},
   "outputs": [],
   "source": [
    "from callback import CustomRewardCallback\n",
    "from plot import make_plot"
   ]
  },
  {
   "cell_type": "code",
   "execution_count": null,
   "metadata": {},
   "outputs": [],
   "source": [
    "# Setup model and environment\n",
    "env = CustomDoorKey(size=7, intermediate_reward=True, randomize_goal=True, k=0.1, render_mode=\"rgb\")\n",
    "env = ImgObsWrapper(env)\n",
    "model = PPO(\"CnnPolicy\", env, policy_kwargs=policy_kwargs, verbose=1)\n",
    "\n",
    "# Instantiate the callback\n",
    "max_reward = 1.09\n",
    "callback = CustomRewardCallback(check_freq=1000, reward_threshold=max_reward)  # set callback\n",
    "\n",
    "# Train the model\n",
    "model.learn(total_timesteps=int(2e8), callback=callback)  # apply callback\n",
    "model.save(\"model_5x5s\")\n",
    "\n",
    "# the plot function also saves the plot\n",
    "plt.savefig('5x5s.png')\n",
    "\n",
    "# Close the environment\n",
    "env.close()"
   ]
  }
 ],
 "metadata": {
  "kernelspec": {
   "display_name": "Python 3 (ipykernel)",
   "language": "python",
   "name": "python3"
  },
  "language_info": {
   "codemirror_mode": {
    "name": "ipython",
    "version": 3
   },
   "file_extension": ".py",
   "mimetype": "text/x-python",
   "name": "python",
   "nbconvert_exporter": "python",
   "pygments_lexer": "ipython3",
   "version": "3.11.5"
  },
  "vscode": {
   "interpreter": {
    "hash": "443827bf24667f421fb10725def0166fa1673cc655d9aeee845987250124cade"
   }
  }
 },
 "nbformat": 4,
 "nbformat_minor": 4
}
