{
 "cells": [
  {
   "cell_type": "code",
   "execution_count": null,
   "id": "0d0ee562-e1a3-4c96-9c5e-e646b48c5961",
   "metadata": {},
   "outputs": [],
   "source": [
    "from customenv import CustomDoorKey\n",
    "\n",
    "from minigrid.wrappers import ImgObsWrapper\n",
    "from stable_baselines3 import PPO\n",
    "\n",
    "from customfeatureextractor import CNNFeaturesExtractor, CustomFeatureExtractor, CustomImgObsWrapper\n",
    "\n",
    "from callback import CustomRewardCallback\n",
    "from plot import make_plot\n",
    "\n",
    "import matplotlib.pyplot as plt\n",
    "\n",
    "# size is grid size\n",
    "# intermediate reward determines if picking up key/opening door gives reward\n",
    "# randomimze goal determines if goal should be randomized (cell on last column)\n",
    "env = CustomDoorKey(size=8, intermediate_reward=True, randomize_goal=True, render_mode = \"rgb\")\n",
    "default_env = ImgObsWrapper(env)\n",
    "custom_env = CustomImgObsWrapper(env)\n",
    "\n",
    "policy_kwargs = dict(\n",
    "    features_extractor_class=CNNFeaturesExtractor,\n",
    "    features_extractor_kwargs=dict(features_dim=128, regularization = False),\n",
    ")\n",
    "\n",
    "custom_policy_kwargs = dict(\n",
    "    features_extractor_class=CustomFeatureExtractor,\n",
    "    features_extractor_kwargs=dict(cnn_features_dim=128, mlp_features_dim=32),\n",
    ")\n",
    "\n",
    "max_reward = 0.9\n",
    "callback = CustomRewardCallback(check_freq=1000, reward_threshold=max_reward)  # set callback\n",
    "\n",
    "# custom behavior, Babak can temper with this\n",
    "model = PPO(\"MultiInputPolicy\", custom_env, policy_kwargs=custom_policy_kwargs, verbose=1)\n",
    "model.learn(2e5, callback=callback)\n",
    "\n",
    "# default behavior, Baldur can use this\n",
    "model = PPO(\"CnnPolicy\", default_env, policy_kwargs=policy_kwargs, verbose=1)\n",
    "model.learn(2e5, callback=callback)\n",
    "\n",
    "\n",
    "\n",
    "model.save(\"MODEL_NAME\")\n",
    "\n",
    "# the plot function also saves the plot\n",
    "plt.savefig('IMAGE_NAME.png')\n"
   ]
  }
 ],
 "metadata": {
  "kernelspec": {
   "display_name": "Python 3 (ipykernel)",
   "language": "python",
   "name": "python3"
  },
  "language_info": {
   "codemirror_mode": {
    "name": "ipython",
    "version": 3
   },
   "file_extension": ".py",
   "mimetype": "text/x-python",
   "name": "python",
   "nbconvert_exporter": "python",
   "pygments_lexer": "ipython3",
   "version": "3.11.5"
  }
 },
 "nbformat": 4,
 "nbformat_minor": 5
}
